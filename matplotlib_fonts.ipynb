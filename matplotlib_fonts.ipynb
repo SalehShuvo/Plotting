{
 "cells": [
  {
   "cell_type": "code",
   "execution_count": 2,
   "id": "72b570c9",
   "metadata": {},
   "outputs": [
    {
     "name": "stdout",
     "output_type": "stream",
     "text": [
      "DejaVu Sans\n",
      "DejaVu Sans Display\n",
      "DejaVu Sans Mono\n",
      "DejaVu Serif\n",
      "DejaVu Serif Display\n",
      "STIXGeneral\n",
      "STIXNonUnicode\n",
      "STIXSizeFiveSym\n",
      "STIXSizeFourSym\n",
      "STIXSizeOneSym\n",
      "STIXSizeThreeSym\n",
      "STIXSizeTwoSym\n",
      "cmb10\n",
      "cmex10\n",
      "cmmi10\n",
      "cmr10\n",
      "cmss10\n",
      "cmsy10\n",
      "cmtt10\n"
     ]
    }
   ],
   "source": [
    "import matplotlib\n",
    "from matplotlib import font_manager\n",
    "import os\n",
    "\n",
    "# Path to Matplotlib’s built-in TTF folder\n",
    "font_dir = os.path.join(matplotlib.get_data_path(), 'fonts', 'ttf')\n",
    "\n",
    "# Gather the names of any font whose file lives under that directory\n",
    "builtin_fonts = sorted({\n",
    "    f.name for f in font_manager.fontManager.ttflist\n",
    "    if f.fname.startswith(font_dir)\n",
    "})\n",
    "\n",
    "# Print them\n",
    "for fname in builtin_fonts:\n",
    "    print(fname)\n"
   ]
  },
  {
   "cell_type": "code",
   "execution_count": 3,
   "id": "6846cae4",
   "metadata": {},
   "outputs": [],
   "source": [
    "import matplotlib.pyplot as plt\n",
    "plt.rcParams['font.family'] = 'monospace'\n",
    "plt.rcParams['font.monospace'] = ['DejaVu Sans Mono']\n"
   ]
  }
 ],
 "metadata": {
  "kernelspec": {
   "display_name": "plotting",
   "language": "python",
   "name": "python3"
  },
  "language_info": {
   "codemirror_mode": {
    "name": "ipython",
    "version": 3
   },
   "file_extension": ".py",
   "mimetype": "text/x-python",
   "name": "python",
   "nbconvert_exporter": "python",
   "pygments_lexer": "ipython3",
   "version": "undefined.undefined.undefined"
  }
 },
 "nbformat": 4,
 "nbformat_minor": 5
}
